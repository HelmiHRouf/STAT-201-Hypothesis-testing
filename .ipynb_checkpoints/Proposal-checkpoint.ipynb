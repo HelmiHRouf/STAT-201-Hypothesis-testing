{
 "cells": [
  {
   "cell_type": "markdown",
   "id": "cc0a9a7b-f029-44a4-8b93-6a30d2b28bc1",
   "metadata": {
    "tags": []
   },
   "source": [
    "# Proposal"
   ]
  },
  {
   "cell_type": "markdown",
   "id": "1abc3b05-5b7b-4752-b820-8d4819a66b96",
   "metadata": {},
   "source": [
    "# Title \n",
    "(put title here)"
   ]
  },
  {
   "cell_type": "markdown",
   "id": "01f9ba31-ccba-4ede-a898-04d97823cfa1",
   "metadata": {},
   "source": [
    "# Introduction\n",
    "\n",
    "(put introduction here)"
   ]
  },
  {
   "cell_type": "markdown",
   "id": "c582bb65-02c5-4419-b7c0-e15b2521a88e",
   "metadata": {},
   "source": [
    "# Preliminary Result\n",
    "(put the cleaned data here)"
   ]
  },
  {
   "cell_type": "code",
   "execution_count": 1,
   "id": "ddd611c9-c9e2-44b4-b844-87a1c5466902",
   "metadata": {
    "tags": []
   },
   "outputs": [
    {
     "name": "stderr",
     "output_type": "stream",
     "text": [
      "── \u001b[1mAttaching core tidyverse packages\u001b[22m ──────────────────────── tidyverse 2.0.0 ──\n",
      "\u001b[32m✔\u001b[39m \u001b[34mdplyr    \u001b[39m 1.1.3     \u001b[32m✔\u001b[39m \u001b[34mreadr    \u001b[39m 2.1.4\n",
      "\u001b[32m✔\u001b[39m \u001b[34mforcats  \u001b[39m 1.0.0     \u001b[32m✔\u001b[39m \u001b[34mstringr  \u001b[39m 1.5.0\n",
      "\u001b[32m✔\u001b[39m \u001b[34mggplot2  \u001b[39m 3.4.3     \u001b[32m✔\u001b[39m \u001b[34mtibble   \u001b[39m 3.2.1\n",
      "\u001b[32m✔\u001b[39m \u001b[34mlubridate\u001b[39m 1.9.2     \u001b[32m✔\u001b[39m \u001b[34mtidyr    \u001b[39m 1.3.0\n",
      "\u001b[32m✔\u001b[39m \u001b[34mpurrr    \u001b[39m 1.0.1     \n",
      "── \u001b[1mConflicts\u001b[22m ────────────────────────────────────────── tidyverse_conflicts() ──\n",
      "\u001b[31m✖\u001b[39m \u001b[34mdplyr\u001b[39m::\u001b[32mfilter()\u001b[39m masks \u001b[34mstats\u001b[39m::filter()\n",
      "\u001b[31m✖\u001b[39m \u001b[34mdplyr\u001b[39m::\u001b[32mlag()\u001b[39m    masks \u001b[34mstats\u001b[39m::lag()\n",
      "\u001b[36mℹ\u001b[39m Use the conflicted package (\u001b[3m\u001b[34m<http://conflicted.r-lib.org/>\u001b[39m\u001b[23m) to force all conflicts to become errors\n"
     ]
    }
   ],
   "source": [
    "library(tidyverse)\n",
    "library(broom)\n",
    "library(repr)\n",
    "library(digest)\n",
    "library(infer)"
   ]
  },
  {
   "cell_type": "code",
   "execution_count": 2,
   "id": "d95403a6-8dc5-42e6-82a0-7d9f6657b508",
   "metadata": {
    "tags": []
   },
   "outputs": [
    {
     "name": "stderr",
     "output_type": "stream",
     "text": [
      "\u001b[1mRows: \u001b[22m\u001b[34m677725\u001b[39m \u001b[1mColumns: \u001b[22m\u001b[34m10\u001b[39m\n",
      "\u001b[36m──\u001b[39m \u001b[1mColumn specification\u001b[22m \u001b[36m────────────────────────────────────────────────────────\u001b[39m\n",
      "\u001b[1mDelimiter:\u001b[22m \",\"\n",
      "\u001b[31mchr\u001b[39m (3): TYPE, HUNDRED_BLOCK, NEIGHBOURHOOD\n",
      "\u001b[32mdbl\u001b[39m (7): YEAR, MONTH, DAY, HOUR, MINUTE, X, Y\n",
      "\n",
      "\u001b[36mℹ\u001b[39m Use `spec()` to retrieve the full column specification for this data.\n",
      "\u001b[36mℹ\u001b[39m Specify the column types or set `show_col_types = FALSE` to quiet this message.\n"
     ]
    },
    {
     "data": {
      "text/html": [
       "<table class=\"dataframe\">\n",
       "<caption>A tibble: 6 × 10</caption>\n",
       "<thead>\n",
       "\t<tr><th scope=col>TYPE</th><th scope=col>YEAR</th><th scope=col>MONTH</th><th scope=col>DAY</th><th scope=col>HOUR</th><th scope=col>MINUTE</th><th scope=col>HUNDRED_BLOCK</th><th scope=col>NEIGHBOURHOOD</th><th scope=col>X</th><th scope=col>Y</th></tr>\n",
       "\t<tr><th scope=col>&lt;chr&gt;</th><th scope=col>&lt;dbl&gt;</th><th scope=col>&lt;dbl&gt;</th><th scope=col>&lt;dbl&gt;</th><th scope=col>&lt;dbl&gt;</th><th scope=col>&lt;dbl&gt;</th><th scope=col>&lt;chr&gt;</th><th scope=col>&lt;chr&gt;</th><th scope=col>&lt;dbl&gt;</th><th scope=col>&lt;dbl&gt;</th></tr>\n",
       "</thead>\n",
       "<tbody>\n",
       "\t<tr><td>Break and Enter Commercial</td><td>2012</td><td>12</td><td>14</td><td> 8</td><td>52</td><td>NA             </td><td>Oakridge</td><td>491285.0</td><td>5453433</td></tr>\n",
       "\t<tr><td>Break and Enter Commercial</td><td>2019</td><td> 3</td><td> 7</td><td> 2</td><td> 6</td><td>10XX SITKA SQ  </td><td>Fairview</td><td>490613.0</td><td>5457110</td></tr>\n",
       "\t<tr><td>Break and Enter Commercial</td><td>2019</td><td> 8</td><td>27</td><td> 4</td><td>12</td><td>10XX ALBERNI ST</td><td>West End</td><td>491007.8</td><td>5459174</td></tr>\n",
       "\t<tr><td>Break and Enter Commercial</td><td>2021</td><td> 4</td><td>26</td><td> 4</td><td>44</td><td>10XX ALBERNI ST</td><td>West End</td><td>491007.8</td><td>5459174</td></tr>\n",
       "\t<tr><td>Break and Enter Commercial</td><td>2014</td><td> 8</td><td> 8</td><td> 5</td><td>13</td><td>10XX ALBERNI ST</td><td>West End</td><td>491015.9</td><td>5459166</td></tr>\n",
       "\t<tr><td>Break and Enter Commercial</td><td>2020</td><td> 7</td><td>28</td><td>19</td><td>12</td><td>10XX ALBERNI ST</td><td>West End</td><td>491015.9</td><td>5459166</td></tr>\n",
       "</tbody>\n",
       "</table>\n"
      ],
      "text/latex": [
       "A tibble: 6 × 10\n",
       "\\begin{tabular}{llllllllll}\n",
       " TYPE & YEAR & MONTH & DAY & HOUR & MINUTE & HUNDRED\\_BLOCK & NEIGHBOURHOOD & X & Y\\\\\n",
       " <chr> & <dbl> & <dbl> & <dbl> & <dbl> & <dbl> & <chr> & <chr> & <dbl> & <dbl>\\\\\n",
       "\\hline\n",
       "\t Break and Enter Commercial & 2012 & 12 & 14 &  8 & 52 & NA              & Oakridge & 491285.0 & 5453433\\\\\n",
       "\t Break and Enter Commercial & 2019 &  3 &  7 &  2 &  6 & 10XX SITKA SQ   & Fairview & 490613.0 & 5457110\\\\\n",
       "\t Break and Enter Commercial & 2019 &  8 & 27 &  4 & 12 & 10XX ALBERNI ST & West End & 491007.8 & 5459174\\\\\n",
       "\t Break and Enter Commercial & 2021 &  4 & 26 &  4 & 44 & 10XX ALBERNI ST & West End & 491007.8 & 5459174\\\\\n",
       "\t Break and Enter Commercial & 2014 &  8 &  8 &  5 & 13 & 10XX ALBERNI ST & West End & 491015.9 & 5459166\\\\\n",
       "\t Break and Enter Commercial & 2020 &  7 & 28 & 19 & 12 & 10XX ALBERNI ST & West End & 491015.9 & 5459166\\\\\n",
       "\\end{tabular}\n"
      ],
      "text/markdown": [
       "\n",
       "A tibble: 6 × 10\n",
       "\n",
       "| TYPE &lt;chr&gt; | YEAR &lt;dbl&gt; | MONTH &lt;dbl&gt; | DAY &lt;dbl&gt; | HOUR &lt;dbl&gt; | MINUTE &lt;dbl&gt; | HUNDRED_BLOCK &lt;chr&gt; | NEIGHBOURHOOD &lt;chr&gt; | X &lt;dbl&gt; | Y &lt;dbl&gt; |\n",
       "|---|---|---|---|---|---|---|---|---|---|\n",
       "| Break and Enter Commercial | 2012 | 12 | 14 |  8 | 52 | NA              | Oakridge | 491285.0 | 5453433 |\n",
       "| Break and Enter Commercial | 2019 |  3 |  7 |  2 |  6 | 10XX SITKA SQ   | Fairview | 490613.0 | 5457110 |\n",
       "| Break and Enter Commercial | 2019 |  8 | 27 |  4 | 12 | 10XX ALBERNI ST | West End | 491007.8 | 5459174 |\n",
       "| Break and Enter Commercial | 2021 |  4 | 26 |  4 | 44 | 10XX ALBERNI ST | West End | 491007.8 | 5459174 |\n",
       "| Break and Enter Commercial | 2014 |  8 |  8 |  5 | 13 | 10XX ALBERNI ST | West End | 491015.9 | 5459166 |\n",
       "| Break and Enter Commercial | 2020 |  7 | 28 | 19 | 12 | 10XX ALBERNI ST | West End | 491015.9 | 5459166 |\n",
       "\n"
      ],
      "text/plain": [
       "  TYPE                       YEAR MONTH DAY HOUR MINUTE HUNDRED_BLOCK  \n",
       "1 Break and Enter Commercial 2012 12    14   8   52     NA             \n",
       "2 Break and Enter Commercial 2019  3     7   2    6     10XX SITKA SQ  \n",
       "3 Break and Enter Commercial 2019  8    27   4   12     10XX ALBERNI ST\n",
       "4 Break and Enter Commercial 2021  4    26   4   44     10XX ALBERNI ST\n",
       "5 Break and Enter Commercial 2014  8     8   5   13     10XX ALBERNI ST\n",
       "6 Break and Enter Commercial 2020  7    28  19   12     10XX ALBERNI ST\n",
       "  NEIGHBOURHOOD X        Y      \n",
       "1 Oakridge      491285.0 5453433\n",
       "2 Fairview      490613.0 5457110\n",
       "3 West End      491007.8 5459174\n",
       "4 West End      491007.8 5459174\n",
       "5 West End      491015.9 5459166\n",
       "6 West End      491015.9 5459166"
      ]
     },
     "metadata": {},
     "output_type": "display_data"
    }
   ],
   "source": [
    "# read the crime data\n",
    "crime_data <- read_csv(\"sources/crimedata_csv_AllNeighbourhoods_AllYears.csv\")\n",
    "head(crime_data)"
   ]
  },
  {
   "cell_type": "markdown",
   "id": "f15eb227-8757-4bb3-b3d2-e1a9adeeff16",
   "metadata": {},
   "source": [
    "# Method: plan\n",
    "\n",
    "(put method here)"
   ]
  },
  {
   "cell_type": "markdown",
   "id": "40abc2d8-cd9e-4266-a725-bee0b41871b1",
   "metadata": {},
   "source": [
    "# References\n",
    "(put references here)"
   ]
  },
  {
   "cell_type": "code",
   "execution_count": null,
   "id": "32afbe9b-54d7-462b-9745-264b882ba550",
   "metadata": {},
   "outputs": [],
   "source": []
  }
 ],
 "metadata": {
  "kernelspec": {
   "display_name": "R",
   "language": "R",
   "name": "ir"
  },
  "language_info": {
   "codemirror_mode": "r",
   "file_extension": ".r",
   "mimetype": "text/x-r-source",
   "name": "R",
   "pygments_lexer": "r",
   "version": "4.2.3"
  }
 },
 "nbformat": 4,
 "nbformat_minor": 5
}
