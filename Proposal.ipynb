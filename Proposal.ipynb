{
 "cells": [
  {
   "cell_type": "markdown",
   "id": "cc0a9a7b-f029-44a4-8b93-6a30d2b28bc1",
   "metadata": {
    "tags": []
   },
   "source": [
    "# Proposal"
   ]
  },
  {
   "cell_type": "code",
   "execution_count": null,
   "id": "6f12adee-9eb3-4bac-8d79-51f13fe47b83",
   "metadata": {},
   "outputs": [],
   "source": []
  }
 ],
 "metadata": {
  "kernelspec": {
   "display_name": "Python 3 (ipykernel)",
   "language": "python",
   "name": "python3"
  },
  "language_info": {
   "codemirror_mode": {
    "name": "ipython",
    "version": 3
   },
   "file_extension": ".py",
   "mimetype": "text/x-python",
   "name": "python",
   "nbconvert_exporter": "python",
   "pygments_lexer": "ipython3",
   "version": "3.11.5"
  }
 },
 "nbformat": 4,
 "nbformat_minor": 5
}
